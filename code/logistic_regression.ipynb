{
 "cells": [
  {
   "cell_type": "markdown",
   "id": "5b51a8d3",
   "metadata": {},
   "source": [
    "# Imports"
   ]
  },
  {
   "cell_type": "code",
   "execution_count": 11,
   "id": "50f1ed93",
   "metadata": {},
   "outputs": [],
   "source": [
    "import numpy as np\n",
    "import pandas as pd\n",
    "\n",
    "import matplotlib.pyplot as plt\n",
    "\n",
    "from sklearn.linear_model import LogisticRegression\n",
    "\n",
    "from sklearn.model_selection import (cross_val_score, GridSearchCV)\n",
    "from sklearn.metrics import (confusion_matrix, \n",
    "                             ConfusionMatrixDisplay, \n",
    "                             classification_report)"
   ]
  },
  {
   "cell_type": "code",
   "execution_count": 24,
   "id": "bfff71be",
   "metadata": {},
   "outputs": [],
   "source": [
    "X_train = pd.read_csv('../data/x_train_ss_processed.csv')\n",
    "X_test = pd.read_csv('../data/x_test_ss_processed.csv')\n",
    "y_train = pd.read_csv('../data/y_train_processed.csv')\n",
    "y_test = pd.read_csv('../data/y_test_processed.csv')"
   ]
  },
  {
   "cell_type": "code",
   "execution_count": 13,
   "id": "46461215",
   "metadata": {},
   "outputs": [
    {
     "name": "stdout",
     "output_type": "stream",
     "text": [
      "(17696, 25) \n",
      " (17696, 1) \n",
      " (4425, 25) \n",
      " (4425, 1)\n"
     ]
    }
   ],
   "source": [
    "print(X_train.shape, '\\n', \n",
    "      y_train.shape, '\\n', \n",
    "      X_test.shape, '\\n', \n",
    "      y_test.shape)"
   ]
  },
  {
   "cell_type": "markdown",
   "id": "9bfdeca4",
   "metadata": {},
   "source": [
    "# Logistic Regression Model"
   ]
  },
  {
   "cell_type": "code",
   "execution_count": 14,
   "id": "e5d6b0a3",
   "metadata": {},
   "outputs": [
    {
     "name": "stdout",
     "output_type": "stream",
     "text": [
      "LogisticRegression(penalty='l1', solver='saga')\n",
      "{'penalty': 'l1', 'solver': 'saga'}\n",
      "Baseline: 67%\n",
      "\n",
      "Best Score: 0.7745\n",
      "Test Score: 0.784\n"
     ]
    }
   ],
   "source": [
    "logreg_params = {'penalty': ['l1', 'l2'], \n",
    "                 'solver': ['liblinear', 'saga'],\n",
    "                }\n",
    "\n",
    "logreg_gridsearch = GridSearchCV(LogisticRegression(), \n",
    "                                 logreg_params, \n",
    "                                 cv=5, \n",
    "                                 n_jobs=-1)\n",
    "\n",
    "logreg_gridsearch.fit(X_train, y_train.values.ravel())\n",
    "\n",
    "print(logreg_gridsearch.best_estimator_)\n",
    "print(logreg_gridsearch.best_params_)\n",
    "\n",
    "print('Baseline: 67%')\n",
    "\n",
    "print('\\nBest Score:', round(logreg_gridsearch.best_score_, 4))\n",
    "print('Test Score:', round(logreg_gridsearch.score(X_test, y_test.values.ravel()), 4))"
   ]
  },
  {
   "cell_type": "code",
   "execution_count": 15,
   "id": "c5cad6a2",
   "metadata": {},
   "outputs": [
    {
     "name": "stdout",
     "output_type": "stream",
     "text": [
      "Baseline: 67%\n",
      "\n",
      "Train scores: [0.77372881 0.76405764 0.76829613 0.77875106 0.76942639]\n",
      "Mean: 0.771\n",
      "Stdev: 0.01 \n",
      "\n",
      "Test scores: [0.79322034 0.76271186 0.78983051 0.76836158 0.77175141]\n",
      "Mean: 0.777\n",
      "Stdev: 0.024 \n",
      "\n"
     ]
    }
   ],
   "source": [
    "logreg = LogisticRegression(max_iter=50000, \n",
    "                            penalty='l1', \n",
    "                            random_state=73, \n",
    "                            solver='liblinear')\n",
    "\n",
    "logreg.fit(X_train, y_train.values.ravel())\n",
    "\n",
    "train_scores = cross_val_score(logreg, X_train, y_train.values.ravel())\n",
    "test_scores = cross_val_score(logreg, X_test, y_test.values.ravel())\n",
    "\n",
    "print('Baseline: 67%\\n')\n",
    "\n",
    "print('Train scores:', train_scores)\n",
    "print('Mean:', round(train_scores.mean(), 3))\n",
    "print('Stdev:', round(2 * train_scores.std(), 3), '\\n')\n",
    "\n",
    "print('Test scores:', test_scores)\n",
    "print('Mean:', round(test_scores.mean(), 3))\n",
    "print('Stdev:', round(2 * test_scores.std(), 3), '\\n')"
   ]
  },
  {
   "cell_type": "markdown",
   "id": "a8748d38",
   "metadata": {},
   "source": [
    "# Coefficient Interpretation"
   ]
  },
  {
   "cell_type": "code",
   "execution_count": 17,
   "id": "daa74608",
   "metadata": {},
   "outputs": [
    {
     "data": {
      "text/html": [
       "<div>\n",
       "<style scoped>\n",
       "    .dataframe tbody tr th:only-of-type {\n",
       "        vertical-align: middle;\n",
       "    }\n",
       "\n",
       "    .dataframe tbody tr th {\n",
       "        vertical-align: top;\n",
       "    }\n",
       "\n",
       "    .dataframe thead th {\n",
       "        text-align: right;\n",
       "    }\n",
       "</style>\n",
       "<table border=\"1\" class=\"dataframe\">\n",
       "  <thead>\n",
       "    <tr style=\"text-align: right;\">\n",
       "      <th></th>\n",
       "      <th>features</th>\n",
       "      <th>coef</th>\n",
       "      <th>abs</th>\n",
       "    </tr>\n",
       "  </thead>\n",
       "  <tbody>\n",
       "    <tr>\n",
       "      <th>8</th>\n",
       "      <td>when_harm_US_ord</td>\n",
       "      <td>-0.580808</td>\n",
       "      <td>0.580808</td>\n",
       "    </tr>\n",
       "    <tr>\n",
       "      <th>15</th>\n",
       "      <td>party_x_ideo_Liberal Democrat</td>\n",
       "      <td>-0.388136</td>\n",
       "      <td>0.388136</td>\n",
       "    </tr>\n",
       "    <tr>\n",
       "      <th>16</th>\n",
       "      <td>party_x_ideo_Moderate/Conservative Democrat</td>\n",
       "      <td>-0.283016</td>\n",
       "      <td>0.283016</td>\n",
       "    </tr>\n",
       "    <tr>\n",
       "      <th>2</th>\n",
       "      <td>sci_consensus_ord</td>\n",
       "      <td>-0.254760</td>\n",
       "      <td>0.254760</td>\n",
       "    </tr>\n",
       "    <tr>\n",
       "      <th>1</th>\n",
       "      <td>cause_recoded_ord</td>\n",
       "      <td>-0.225667</td>\n",
       "      <td>0.225667</td>\n",
       "    </tr>\n",
       "    <tr>\n",
       "      <th>3</th>\n",
       "      <td>harm_personally_ord</td>\n",
       "      <td>-0.222864</td>\n",
       "      <td>0.222864</td>\n",
       "    </tr>\n",
       "    <tr>\n",
       "      <th>13</th>\n",
       "      <td>party_No party/not interested in politics</td>\n",
       "      <td>-0.208027</td>\n",
       "      <td>0.208027</td>\n",
       "    </tr>\n",
       "    <tr>\n",
       "      <th>10</th>\n",
       "      <td>reg_CO2_pollutant_ord</td>\n",
       "      <td>-0.169163</td>\n",
       "      <td>0.169163</td>\n",
       "    </tr>\n",
       "    <tr>\n",
       "      <th>0</th>\n",
       "      <td>worry</td>\n",
       "      <td>-0.152391</td>\n",
       "      <td>0.152391</td>\n",
       "    </tr>\n",
       "    <tr>\n",
       "      <th>7</th>\n",
       "      <td>harm_plants_animals_ord</td>\n",
       "      <td>-0.143308</td>\n",
       "      <td>0.143308</td>\n",
       "    </tr>\n",
       "  </tbody>\n",
       "</table>\n",
       "</div>"
      ],
      "text/plain": [
       "                                       features      coef       abs\n",
       "8                              when_harm_US_ord -0.580808  0.580808\n",
       "15                party_x_ideo_Liberal Democrat -0.388136  0.388136\n",
       "16  party_x_ideo_Moderate/Conservative Democrat -0.283016  0.283016\n",
       "2                             sci_consensus_ord -0.254760  0.254760\n",
       "1                             cause_recoded_ord -0.225667  0.225667\n",
       "3                           harm_personally_ord -0.222864  0.222864\n",
       "13    party_No party/not interested in politics -0.208027  0.208027\n",
       "10                        reg_CO2_pollutant_ord -0.169163  0.169163\n",
       "0                                         worry -0.152391  0.152391\n",
       "7                       harm_plants_animals_ord -0.143308  0.143308"
      ]
     },
     "execution_count": 17,
     "metadata": {},
     "output_type": "execute_result"
    }
   ],
   "source": [
    "logreg_coefs_0 = pd.DataFrame(list(zip(X_train.columns, np.expm1(logreg.coef_[0]))), \n",
    "                           columns=['features', 'coef'])\n",
    "\n",
    "logreg_coefs_0['abs'] = abs(logreg_coefs_0['coef'])\n",
    "\n",
    "logreg_coefs_0.sort_values('abs', ascending=False).head(10)"
   ]
  },
  {
   "cell_type": "code",
   "execution_count": 18,
   "id": "9f6a5f54",
   "metadata": {},
   "outputs": [
    {
     "data": {
      "text/html": [
       "<div>\n",
       "<style scoped>\n",
       "    .dataframe tbody tr th:only-of-type {\n",
       "        vertical-align: middle;\n",
       "    }\n",
       "\n",
       "    .dataframe tbody tr th {\n",
       "        vertical-align: top;\n",
       "    }\n",
       "\n",
       "    .dataframe thead th {\n",
       "        text-align: right;\n",
       "    }\n",
       "</style>\n",
       "<table border=\"1\" class=\"dataframe\">\n",
       "  <thead>\n",
       "    <tr style=\"text-align: right;\">\n",
       "      <th></th>\n",
       "      <th>features</th>\n",
       "      <th>coef</th>\n",
       "      <th>abs</th>\n",
       "    </tr>\n",
       "  </thead>\n",
       "  <tbody>\n",
       "    <tr>\n",
       "      <th>2</th>\n",
       "      <td>sci_consensus_ord</td>\n",
       "      <td>-0.423120</td>\n",
       "      <td>0.423120</td>\n",
       "    </tr>\n",
       "    <tr>\n",
       "      <th>15</th>\n",
       "      <td>party_x_ideo_Liberal Democrat</td>\n",
       "      <td>-0.329186</td>\n",
       "      <td>0.329186</td>\n",
       "    </tr>\n",
       "    <tr>\n",
       "      <th>0</th>\n",
       "      <td>worry</td>\n",
       "      <td>0.308926</td>\n",
       "      <td>0.308926</td>\n",
       "    </tr>\n",
       "    <tr>\n",
       "      <th>12</th>\n",
       "      <td>discuss_GW_ord</td>\n",
       "      <td>-0.299857</td>\n",
       "      <td>0.299857</td>\n",
       "    </tr>\n",
       "    <tr>\n",
       "      <th>8</th>\n",
       "      <td>when_harm_US_ord</td>\n",
       "      <td>-0.246916</td>\n",
       "      <td>0.246916</td>\n",
       "    </tr>\n",
       "    <tr>\n",
       "      <th>16</th>\n",
       "      <td>party_x_ideo_Moderate/Conservative Democrat</td>\n",
       "      <td>-0.155321</td>\n",
       "      <td>0.155321</td>\n",
       "    </tr>\n",
       "    <tr>\n",
       "      <th>9</th>\n",
       "      <td>educ_category_ord</td>\n",
       "      <td>-0.099075</td>\n",
       "      <td>0.099075</td>\n",
       "    </tr>\n",
       "    <tr>\n",
       "      <th>1</th>\n",
       "      <td>cause_recoded_ord</td>\n",
       "      <td>0.072305</td>\n",
       "      <td>0.072305</td>\n",
       "    </tr>\n",
       "    <tr>\n",
       "      <th>22</th>\n",
       "      <td>pc_2</td>\n",
       "      <td>0.060578</td>\n",
       "      <td>0.060578</td>\n",
       "    </tr>\n",
       "    <tr>\n",
       "      <th>11</th>\n",
       "      <td>fund_research_ord</td>\n",
       "      <td>-0.055138</td>\n",
       "      <td>0.055138</td>\n",
       "    </tr>\n",
       "  </tbody>\n",
       "</table>\n",
       "</div>"
      ],
      "text/plain": [
       "                                       features      coef       abs\n",
       "2                             sci_consensus_ord -0.423120  0.423120\n",
       "15                party_x_ideo_Liberal Democrat -0.329186  0.329186\n",
       "0                                         worry  0.308926  0.308926\n",
       "12                               discuss_GW_ord -0.299857  0.299857\n",
       "8                              when_harm_US_ord -0.246916  0.246916\n",
       "16  party_x_ideo_Moderate/Conservative Democrat -0.155321  0.155321\n",
       "9                             educ_category_ord -0.099075  0.099075\n",
       "1                             cause_recoded_ord  0.072305  0.072305\n",
       "22                                         pc_2  0.060578  0.060578\n",
       "11                            fund_research_ord -0.055138  0.055138"
      ]
     },
     "execution_count": 18,
     "metadata": {},
     "output_type": "execute_result"
    }
   ],
   "source": [
    "logreg_coefs_1 = pd.DataFrame(list(zip(X_train.columns, np.expm1(logreg.coef_[1]))), \n",
    "                           columns=['features', 'coef'])\n",
    "\n",
    "logreg_coefs_1['abs'] = abs(logreg_coefs_1['coef'])\n",
    "\n",
    "logreg_coefs_1.sort_values('abs', ascending=False).head(10)"
   ]
  },
  {
   "cell_type": "code",
   "execution_count": 27,
   "id": "15f32b3b",
   "metadata": {},
   "outputs": [
    {
     "data": {
      "text/html": [
       "<div>\n",
       "<style scoped>\n",
       "    .dataframe tbody tr th:only-of-type {\n",
       "        vertical-align: middle;\n",
       "    }\n",
       "\n",
       "    .dataframe tbody tr th {\n",
       "        vertical-align: top;\n",
       "    }\n",
       "\n",
       "    .dataframe thead th {\n",
       "        text-align: right;\n",
       "    }\n",
       "</style>\n",
       "<table border=\"1\" class=\"dataframe\">\n",
       "  <thead>\n",
       "    <tr style=\"text-align: right;\">\n",
       "      <th></th>\n",
       "      <th>features</th>\n",
       "      <th>coef</th>\n",
       "      <th>abs</th>\n",
       "    </tr>\n",
       "  </thead>\n",
       "  <tbody>\n",
       "    <tr>\n",
       "      <th>8</th>\n",
       "      <td>when_harm_US_ord</td>\n",
       "      <td>1.087938</td>\n",
       "      <td>1.087938</td>\n",
       "    </tr>\n",
       "    <tr>\n",
       "      <th>2</th>\n",
       "      <td>sci_consensus_ord</td>\n",
       "      <td>1.011935</td>\n",
       "      <td>1.011935</td>\n",
       "    </tr>\n",
       "    <tr>\n",
       "      <th>1</th>\n",
       "      <td>cause_recoded_ord</td>\n",
       "      <td>0.741983</td>\n",
       "      <td>0.741983</td>\n",
       "    </tr>\n",
       "    <tr>\n",
       "      <th>15</th>\n",
       "      <td>party_x_ideo_Liberal Democrat</td>\n",
       "      <td>0.593575</td>\n",
       "      <td>0.593575</td>\n",
       "    </tr>\n",
       "    <tr>\n",
       "      <th>16</th>\n",
       "      <td>party_x_ideo_Moderate/Conservative Democrat</td>\n",
       "      <td>0.336553</td>\n",
       "      <td>0.336553</td>\n",
       "    </tr>\n",
       "    <tr>\n",
       "      <th>7</th>\n",
       "      <td>harm_plants_animals_ord</td>\n",
       "      <td>0.273593</td>\n",
       "      <td>0.273593</td>\n",
       "    </tr>\n",
       "    <tr>\n",
       "      <th>12</th>\n",
       "      <td>discuss_GW_ord</td>\n",
       "      <td>0.259648</td>\n",
       "      <td>0.259648</td>\n",
       "    </tr>\n",
       "    <tr>\n",
       "      <th>10</th>\n",
       "      <td>reg_CO2_pollutant_ord</td>\n",
       "      <td>0.194192</td>\n",
       "      <td>0.194192</td>\n",
       "    </tr>\n",
       "    <tr>\n",
       "      <th>11</th>\n",
       "      <td>fund_research_ord</td>\n",
       "      <td>0.171253</td>\n",
       "      <td>0.171253</td>\n",
       "    </tr>\n",
       "    <tr>\n",
       "      <th>3</th>\n",
       "      <td>harm_personally_ord</td>\n",
       "      <td>0.124999</td>\n",
       "      <td>0.124999</td>\n",
       "    </tr>\n",
       "  </tbody>\n",
       "</table>\n",
       "</div>"
      ],
      "text/plain": [
       "                                       features      coef       abs\n",
       "8                              when_harm_US_ord  1.087938  1.087938\n",
       "2                             sci_consensus_ord  1.011935  1.011935\n",
       "1                             cause_recoded_ord  0.741983  0.741983\n",
       "15                party_x_ideo_Liberal Democrat  0.593575  0.593575\n",
       "16  party_x_ideo_Moderate/Conservative Democrat  0.336553  0.336553\n",
       "7                       harm_plants_animals_ord  0.273593  0.273593\n",
       "12                               discuss_GW_ord  0.259648  0.259648\n",
       "10                        reg_CO2_pollutant_ord  0.194192  0.194192\n",
       "11                            fund_research_ord  0.171253  0.171253\n",
       "3                           harm_personally_ord  0.124999  0.124999"
      ]
     },
     "execution_count": 27,
     "metadata": {},
     "output_type": "execute_result"
    }
   ],
   "source": [
    "logreg_coefs_2 = pd.DataFrame(list(zip(X_train.columns, np.expm1(logreg.coef_[2]))), \n",
    "                           columns=['features', 'coef'])\n",
    "\n",
    "logreg_coefs_2['abs'] = abs(logreg_coefs_2['coef'])\n",
    "\n",
    "logreg_coefs_2.sort_values('abs', ascending=False).head(10)"
   ]
  },
  {
   "cell_type": "markdown",
   "id": "26064105",
   "metadata": {},
   "source": [
    "# Metrics"
   ]
  },
  {
   "cell_type": "code",
   "execution_count": 21,
   "id": "9923f930",
   "metadata": {
    "scrolled": false
   },
   "outputs": [
    {
     "name": "stdout",
     "output_type": "stream",
     "text": [
      "              precision    recall  f1-score   support\n",
      "\n",
      "          No       0.70      0.67      0.69       722\n",
      "  Don't know       0.52      0.21      0.30       719\n",
      "         Yes       0.82      0.95      0.88      2984\n",
      "\n",
      "    accuracy                           0.78      4425\n",
      "   macro avg       0.68      0.61      0.62      4425\n",
      "weighted avg       0.75      0.78      0.75      4425\n",
      "\n"
     ]
    },
    {
     "data": {
      "text/plain": [
       "''"
      ]
     },
     "execution_count": 21,
     "metadata": {},
     "output_type": "execute_result"
    },
    {
     "data": {
      "image/png": "[encoded data removed]",
      "text/plain": [
       "<Figure size 720x720 with 2 Axes>"
      ]
     },
     "metadata": {
      "needs_background": "light"
     },
     "output_type": "display_data"
    }
   ],
   "source": [
    "conmat = np.array(confusion_matrix(y_test, \n",
    "                                   logreg.predict(X_test), \n",
    "                                   labels=[0, 1, 2]))\n",
    "\n",
    "print(classification_report(y_test,\n",
    "                            logreg.predict(X_test), \n",
    "                            target_names=['No', \"Don't know\", 'Yes']))\n",
    "\n",
    "matrix_display = ConfusionMatrixDisplay(confusion_matrix=conmat, \n",
    "                                        display_labels=logreg.classes_)\n",
    "matrix_display.plot()\n",
    "\n",
    "figure = plt.gcf()\n",
    "figure.set_size_inches(10, 10)\n",
    ";"
   ]
  }
 ],
 "metadata": {
  "kernelspec": {
   "display_name": "Python 3 (ipykernel)",
   "language": "python",
   "name": "python3"
  },
  "language_info": {
   "codemirror_mode": {
    "name": "ipython",
    "version": 3
   },
   "file_extension": ".py",
   "mimetype": "text/x-python",
   "name": "python",
   "nbconvert_exporter": "python",
   "pygments_lexer": "ipython3",
   "version": "3.9.7"
  },
  "toc": {
   "base_numbering": 1,
   "nav_menu": {},
   "number_sections": true,
   "sideBar": true,
   "skip_h1_title": false,
   "title_cell": "Table of Contents",
   "title_sidebar": "Contents",
   "toc_cell": false,
   "toc_position": {},
   "toc_section_display": true,
   "toc_window_display": false
  }
 },
 "nbformat": 4,
 "nbformat_minor": 5
}
